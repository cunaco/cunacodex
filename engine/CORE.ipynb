{
  "nbformat": 4,
  "nbformat_minor": 0,
  "metadata": {
    "colab": {
      "provenance": [],
      "authorship_tag": "ABX9TyP/MoFtUZYhNeJltBguRPkX",
      "include_colab_link": true
    },
    "kernelspec": {
      "name": "python3",
      "display_name": "Python 3"
    },
    "language_info": {
      "name": "python"
    }
  },
  "cells": [
    {
      "cell_type": "markdown",
      "metadata": {
        "id": "view-in-github",
        "colab_type": "text"
      },
      "source": [
        "<a href=\"https://colab.research.google.com/github/cunaco/cunacodex/blob/main/engine/CORE.ipynb\" target=\"_parent\"><img src=\"https://colab.research.google.com/assets/colab-badge.svg\" alt=\"Open In Colab\"/></a>"
      ]
    },
    {
      "cell_type": "markdown",
      "source": [
        "**ИМПОРТ БИБЛИОТЕК**"
      ],
      "metadata": {
        "id": "Xtv36_pataJB"
      }
    },
    {
      "cell_type": "code",
      "execution_count": null,
      "metadata": {
        "id": "ZhGVLmZzs2w2"
      },
      "outputs": [],
      "source": [
        "import random\n",
        "import numpy as np\n",
        "import tensorflow as tf\n",
        "from tensorflow.keras.preprocessing.text import Tokenizer\n",
        "from tensorflow.keras.preprocessing.sequence import pad_sequences\n",
        "from tensorflow.keras.models import Sequential\n",
        "from tensorflow.keras.layers import Embedding, LSTM, Dense, Bidirectional"
      ]
    },
    {
      "cell_type": "markdown",
      "source": [
        "**ЗАГРУЗКА И ЗАПУСК CИСТЕМЫ СЛОВАРЕЙ ВОПРОСОВ CELEST1A И ОТВЕТОВ C2GB**"
      ],
      "metadata": {
        "id": "X_nl_E5-tsqf"
      }
    },
    {
      "cell_type": "code",
      "source": [
        "CELEST1A = {\n",
        "    'MIND': ['CAPACITY', 'COMPUTING', 'DIRECTION', 'REFLECTION'],\n",
        "    'BODY': ['AGILITY', 'APPEARENCE', 'SENSE', 'STRENGTH'],\n",
        "    'SOUL': ['IMAGE', 'MORAL', 'PASSION','WEIGHT'],\n",
        "    'WILL': ['CUT','GO','PICK','SPACE']\n",
        "}\n",
        "\n",
        "C2GB = {\n",
        "    'RELIGION': ['PERCEPTION', 'CONCEPTION', 'ACCEPTION', 'RECEPTION'],\n",
        "    'PHILOSOPHY': ['PAST', 'PRESENT', 'FUTURE', 'ETERNAL'],\n",
        "    'ART': ['STORGE', 'AGAPE', 'PHILIA', 'EROS'],\n",
        "    'SCIENCE': ['CROWN', 'FRUIT', 'TRUNK', 'ROOTS']\n",
        "}\n"
      ],
      "metadata": {
        "id": "YjppN82htMJG"
      },
      "execution_count": null,
      "outputs": []
    },
    {
      "cell_type": "markdown",
      "source": [
        "**ПРЕОБРАЗОВАНИЕ СЛОВАРЕЙ ДАННЫХ И АТРИБУТОВ ИЗ СЛОВ В ЧИСЛА**"
      ],
      "metadata": {
        "id": "x-sxHluNw5im"
      }
    },
    {
      "cell_type": "code",
      "source": [
        "CELEST1A_numeric = np.array([list(value) for value in CELEST1A.values()]);\n",
        "C2GB_numeric = np.array([list(value) for value in C2GB.values()]);"
      ],
      "metadata": {
        "id": "HUuh5oV_wq1y"
      },
      "execution_count": null,
      "outputs": []
    },
    {
      "cell_type": "markdown",
      "source": [
        "**ПОДГОТОВКА ДАННЫХ ДЛЯ ОБУЧЕНИЯ**"
      ],
      "metadata": {
        "id": "F5_QVYklE-xi"
      }
    },
    {
      "cell_type": "code",
      "source": [
        "# Создаем объект Tokenizer и обучаем его на текстах\n",
        "tokenizer = Tokenizer()\n",
        "tokenizer.fit_on_texts(CELEST1A)\n",
        "tokenizer.fit_on_texts(C2GB)\n",
        "\n",
        "# Преобразуем тексты в последовательности чисел\n",
        "sequences = tokenizer.texts_to_sequences(CELEST1A)\n",
        "sequences = tokenizer.texts_to_sequences(C2GB)\n",
        "\n",
        "# Определяем максимальную длину последовательности\n",
        "max_sequence_length = max(len(seq) for seq in sequences)\n",
        "\n",
        "# Выравниваем последовательности до одинаковой длины\n",
        "padded_sequences = pad_sequences(sequences, maxlen=max_sequence_length, padding='post')"
      ],
      "metadata": {
        "id": "6-dTjGv1Evy3"
      },
      "execution_count": null,
      "outputs": []
    },
    {
      "cell_type": "markdown",
      "source": [
        "**ДОБАВЛЕНИЕ СЛОВАРЯ МАРШРУТОВ ПО СИСТЕМЕ N4M7C**"
      ],
      "metadata": {
        "id": "qmssJtTa93dC"
      }
    },
    {
      "cell_type": "code",
      "source": [
        "N4M7C = {\n",
        "    'FEED': ['INFO','FOOD','GRACE','MANA'],\n",
        "    'STIMULUS': ['COMMINICATE','REACT','ENJOY','AIM','MASTER','ACT','EVOLVE','REVISE','CARE'],\n",
        "    'PULSE': ['HATE','LOVE','MAD','WISE','WILL','POWER','MYSTERY','CLAIRITY','DESCTRUCT','CONSTRUCT'],\n",
        "    'SYNTHESIS': ['PRODUCT','SOLVERY','RELATION','EXPIRIENCE']\n",
        "}"
      ],
      "metadata": {
        "id": "zbUHSZA8-q01"
      },
      "execution_count": null,
      "outputs": []
    },
    {
      "cell_type": "markdown",
      "source": [
        "**ДОБАВЛЕНИЕ ЗНАЧЕНИЙ ПО СИСТЕМЕ R4ST**"
      ],
      "metadata": {
        "id": "pB9QLAUMSo1Z"
      }
    },
    {
      "cell_type": "code",
      "source": [
        "R4ST = {\n",
        "    'CANCELLATION',\n",
        "    'CONTROL',\n",
        "    'CINEMATICS',\n",
        "    'CONFIGURATIVE',\n",
        "    'CARING',\n",
        "    'CAPABLE',\n",
        "    'CHEERING'\n",
        "}"
      ],
      "metadata": {
        "id": "m0P3QgivZvH4"
      },
      "execution_count": null,
      "outputs": []
    },
    {
      "cell_type": "markdown",
      "source": [
        "**ПРЕОБРАЗОВАНИЕ ДАННЫХ ИЗ СЛОВАРЯ В СПИСОК СТРОК**"
      ],
      "metadata": {
        "id": "jmEoAfbQSd5v"
      }
    },
    {
      "cell_type": "code",
      "source": [
        "input_CELEST1A = []\n",
        "for MIND in CELEST1A:\n",
        "    input_CELEST1A.extend(CELEST1A[MIND]) == 'CANCELLATION', 'CONTROL', 'CINEMATICS', 'CONFIGURATIVE', 'CARING', 'CAPABLE', 'CHEERING'\n",
        "for BODY in CELEST1A:\n",
        "    input_CELEST1A.extend(CELEST1A[BODY]) == 'CANCELLATION', 'CONTROL', 'CINEMATICS', 'CONFIGURATIVE', 'CARING', 'CAPABLE', 'CHEERING'\n",
        "for SOUL in CELEST1A:\n",
        "    input_CELEST1A.extend(CELEST1A[SOUL]) == 'CANCELLATION', 'CONTROL', 'CINEMATICS', 'CONFIGURATIVE', 'CARING', 'CAPABLE', 'CHEERING'\n",
        "for WILL in CELEST1A:\n",
        "    input_CELEST1A.extend(CELEST1A[WILL]) == 'CANCELLATION', 'CONTROL', 'CINEMATICS', 'CONFIGURATIVE', 'CARING', 'CAPABLE', 'CHEERING'\n",
        "\n",
        "\n",
        "input_C2GB = []\n",
        "for RELIGION in C2GB:\n",
        "    input_C2GB.extend(C2GB[RELIGION]) == 'CANCELLATION', 'CONTROL', 'CINEMATICS', 'CONFIGURATIVE', 'CARING', 'CAPABLE', 'CHEERING'\n",
        "for PHILOSOPHY in C2GB:\n",
        "    input_C2GB.extend(C2GB[PHILOSOPHY]) == 'CANCELLATION', 'CONTROL', 'CINEMATICS', 'CONFIGURATIVE', 'CARING', 'CAPABLE', 'CHEERING'\n",
        "for ART in C2GB:\n",
        "    input_C2GB.extend(C2GB[ART]) == 'CANCELLATION', 'CONTROL', 'CINEMATICS', 'CONFIGURATIVE', 'CARING', 'CAPABLE', 'CHEERING'\n",
        "for SCIENCE in C2GB:\n",
        "    input_C2GB.extend(C2GB[SCIENCE]) == 'CANCELLATION', 'CONTROL', 'CINEMATICS', 'CONFIGURATIVE', 'CARING', 'CAPABLE', 'CHEERING'\n",
        "\n",
        "input_N4M7C = []\n",
        "for FEED in N4M7C:\n",
        "    input_N4M7C.extend(N4M7C[FEED]) == 'CANCELLATION', 'CONTROL', 'CINEMATICS', 'CONFIGURATIVE', 'CARING', 'CAPABLE', 'CHEERING'\n",
        "for STIMULUS in N4M7C:\n",
        "    input_N4M7C.extend(N4M7C[STIMULUS]) == 'CANCELLATION', 'CONTROL', 'CINEMATICS', 'CONFIGURATIVE', 'CARING', 'CAPABLE', 'CHEERING'\n",
        "for PULSE in N4M7C:\n",
        "    input_N4M7C.extend(N4M7C[PULSE]) == 'CANCELLATION', 'CONTROL', 'CINEMATICS', 'CONFIGURATIVE', 'CARING', 'CAPABLE', 'CHEERING'\n",
        "for SYNTHESIS in N4M7C:\n",
        "    input_N4M7C.extend(N4M7C[SYNTHESIS]) == 'CANCELLATION', 'CONTROL', 'CINEMATICS', 'CONFIGURATIVE', 'CARING', 'CAPABLE', 'CHEERING'\n",
        "\n",
        "\n"
      ],
      "metadata": {
        "id": "D9eUKJ_ESq6p"
      },
      "execution_count": null,
      "outputs": []
    },
    {
      "cell_type": "markdown",
      "source": [
        "**СОЗДАНИЕ И ОБУЧЕНИЕ НЕЙРОСЕТИ**"
      ],
      "metadata": {
        "id": "BUtvYyxCJsNR"
      }
    },
    {
      "cell_type": "code",
      "source": [
        "# Определяем размер словаря (количество уникальных слов)\n",
        "vocab_size = len(tokenizer.word_index) + 1\n",
        "\n",
        "# Создаем модель нейронной сети\n",
        "model = Sequential()\n",
        "model.add(Embedding(input_dim=vocab_size, output_dim=100, input_length=max_sequence_length))\n",
        "model.add(LSTM(units=128))\n",
        "model.add(Dense(units=vocab_size, activation='softmax'))\n",
        "\n",
        "# Компилируем модель\n",
        "model.compile(optimizer='adam', loss='categorical_crossentropy', metrics=['accuracy'])\n",
        "\n",
        "# Обучаем модель\n",
        "model.summary()"
      ],
      "metadata": {
        "colab": {
          "base_uri": "https://localhost:8080/"
        },
        "id": "cuFPlP9yKOP2",
        "outputId": "a3604003-95a9-4963-efe6-c0c7f5af2d6b"
      },
      "execution_count": null,
      "outputs": [
        {
          "output_type": "stream",
          "name": "stdout",
          "text": [
            "Model: \"sequential_26\"\n",
            "_________________________________________________________________\n",
            " Layer (type)                Output Shape              Param #   \n",
            "=================================================================\n",
            " embedding_26 (Embedding)    (None, 1, 100)            900       \n",
            "                                                                 \n",
            " lstm_26 (LSTM)              (None, 128)               117248    \n",
            "                                                                 \n",
            " dense_26 (Dense)            (None, 9)                 1161      \n",
            "                                                                 \n",
            "=================================================================\n",
            "Total params: 119309 (466.05 KB)\n",
            "Trainable params: 119309 (466.05 KB)\n",
            "Non-trainable params: 0 (0.00 Byte)\n",
            "_________________________________________________________________\n"
          ]
        }
      ]
    },
    {
      "cell_type": "markdown",
      "source": [
        "**ИНТЕРФЕЙС**"
      ],
      "metadata": {
        "id": "xmkvEA-kNdv9"
      }
    },
    {
      "cell_type": "code",
      "source": [
        "def respond_to_user_input(user_input):\n",
        "    # Преобразуем пользовательский ввод в последовательность чисел\n",
        "    user_input_sequence = tokenizer.texts_to_sequences([user_input])\n",
        "    user_input_sequence_padded = pad_sequences(user_input_sequence, maxlen=max_sequence_length, padding='post')\n",
        "\n",
        "    # Генерируем ответ с помощью модели\n",
        "    predicted_probabilities = model.predict(user_input_sequence_padded)[0]\n",
        "\n",
        "    # Выбираем индекс с наибольшей вероятностью\n",
        "    predicted_index = np.argmax(predicted_probabilities)\n",
        "\n",
        "    # Получаем слово, соответствующее выбранному индексу из словаря\n",
        "    predicted_word = reverse_word_index[predicted_index]\n",
        "\n",
        "    return predicted_word\n"
      ],
      "metadata": {
        "id": "FReQQ5Ifw3V-"
      },
      "execution_count": null,
      "outputs": []
    },
    {
      "cell_type": "markdown",
      "source": [
        "**ОБРАБОТКА ВХОДНОГО ЗАПРОСА И ГЕНЕРАЦИЯ ОТВЕТА**"
      ],
      "metadata": {
        "id": "PCGlru7ai9vk"
      }
    }
  ]
}