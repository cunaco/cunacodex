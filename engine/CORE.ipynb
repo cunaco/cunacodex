{
  "nbformat": 4,
  "nbformat_minor": 0,
  "metadata": {
    "colab": {
      "provenance": [],
      "authorship_tag": "ABX9TyNybLzeSXbfoW0C2kzcDOIg",
      "include_colab_link": true
    },
    "kernelspec": {
      "name": "python3",
      "display_name": "Python 3"
    },
    "language_info": {
      "name": "python"
    }
  },
  "cells": [
    {
      "cell_type": "markdown",
      "metadata": {
        "id": "view-in-github",
        "colab_type": "text"
      },
      "source": [
        "<a href=\"https://colab.research.google.com/github/cunaco/cunacodex/blob/main/engine/CORE.ipynb\" target=\"_parent\"><img src=\"https://colab.research.google.com/assets/colab-badge.svg\" alt=\"Open In Colab\"/></a>"
      ]
    },
    {
      "cell_type": "markdown",
      "source": [
        "**ИМПОРТ БИБЛИОТЕК**"
      ],
      "metadata": {
        "id": "Xtv36_pataJB"
      }
    },
    {
      "cell_type": "code",
      "execution_count": 29,
      "metadata": {
        "id": "ZhGVLmZzs2w2"
      },
      "outputs": [],
      "source": [
        "import random\n",
        "import numpy as np\n",
        "import tensorflow as tf\n",
        "from tensorflow.keras.preprocessing.text import Tokenizer\n",
        "from tensorflow.keras.preprocessing.sequence import pad_sequences\n",
        "from tensorflow.keras.models import Sequential\n",
        "from tensorflow.keras.layers import Embedding, LSTM, Dense, Bidirectional"
      ]
    },
    {
      "cell_type": "markdown",
      "source": [
        "**ЗАГРУЗКА И ЗАПУСК CИСТЕМЫ ВОПРОСОВ CELEST1A И ОТВЕТОВ C2GB**"
      ],
      "metadata": {
        "id": "X_nl_E5-tsqf"
      }
    },
    {
      "cell_type": "code",
      "source": [
        "CELEST1A = {\n",
        "    'MIND': ['CAPACITY', 'COMPUTING', 'DIRECTION', 'REFLECTION'],\n",
        "    'BODY': ['AGILITY', 'APPEARENCE', 'SENSE', 'STRENGTH'],\n",
        "    'SOUL': ['IMAGE', 'MORAL', 'PASSION','WEIGHT'],\n",
        "    'WILL': ['CUT','GO','PICK','SPACE']\n",
        "}\n",
        "\n",
        "C2GB = {\n",
        "    'RELIGION': ['PERCEPTION', 'CONCEPTION', 'ACCEPTION', 'RECEPTION'],\n",
        "    'PHILOSOPHY': ['PAST', 'PRESENT', 'FUTURE', 'ETERNAL'],\n",
        "    'ART': ['STORGE', 'AGAPE', 'PHILIA', 'EROS'],\n",
        "    'SCIENCE': ['CROWN', 'FRUIT', 'TRUNK', 'ROOTS']\n",
        "}\n"
      ],
      "metadata": {
        "id": "YjppN82htMJG"
      },
      "execution_count": 30,
      "outputs": []
    },
    {
      "cell_type": "markdown",
      "source": [
        "**ПРЕОБРАЗОВАНИЕ ДАННЫХ и АТРИБУТОВ ИЗ СЛОВ В ЧИСЛА**"
      ],
      "metadata": {
        "id": "x-sxHluNw5im"
      }
    },
    {
      "cell_type": "code",
      "source": [
        "CELEST1A_numeric = np.array([list(value) for value in CELEST1A.values()]);\n",
        "C2GB_numeric = np.array([list(value) for value in C2GB.values()]);"
      ],
      "metadata": {
        "id": "HUuh5oV_wq1y"
      },
      "execution_count": 31,
      "outputs": []
    },
    {
      "cell_type": "markdown",
      "source": [
        "**ВЫВОД РЕШЕНИЙ ПО СИСТЕМЕ ОПРЕДЕЛЕНИЙ N4M7C**"
      ],
      "metadata": {
        "id": "qmssJtTa93dC"
      }
    },
    {
      "cell_type": "code",
      "source": [
        "N4M7C = {\n",
        "    'FEED': ['INFO','FOOD','GRACE','MANA'],\n",
        "    'STIMULUS': ['COMMINICATE','REACT','ENJOY','AIM','MASTER','ACT','EVOLVE','REVISE','CARE'],\n",
        "    'PULSE': ['HATE','LOVE','MAD','WISE','WILL','POWER','MYSTERY','CLAIRITY','DESCTRUCT','CONSTRUCT'],\n",
        "    'SYNTHESIS': ['PRODUCT','SOLVERY','RELATION','EXPIRIENCE']\n",
        "}"
      ],
      "metadata": {
        "id": "zbUHSZA8-q01"
      },
      "execution_count": 32,
      "outputs": []
    },
    {
      "cell_type": "markdown",
      "source": [
        "**ОБУЧЕНИЕ ПО ПРИНЦИПАМ R4ST**"
      ],
      "metadata": {
        "id": "Z5Y150Oy6_Gt"
      }
    },
    {
      "cell_type": "code",
      "source": [
        "R4ST_principles = [\n",
        "    'CANCELLATION',\n",
        "    'CONTROL',\n",
        "    'CINEMATICS',\n",
        "    'CONFIGURATIVE',\n",
        "    'CARING',\n",
        "    'CAPABLE',\n",
        "    'CHEERING'\n",
        "]"
      ],
      "metadata": {
        "id": "kNVGXQ7I7gpE"
      },
      "execution_count": 33,
      "outputs": []
    },
    {
      "cell_type": "markdown",
      "source": [
        "**ОБРАБОТКА ВХОДНОГО ЗАПРОСА И ГЕНЕРАЦИЯ ОТВЕТА**"
      ],
      "metadata": {
        "id": "xmkvEA-kNdv9"
      }
    }
  ]
}